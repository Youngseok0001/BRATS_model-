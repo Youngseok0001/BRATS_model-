{
 "cells": [
  {
   "cell_type": "code",
   "execution_count": 1,
   "metadata": {},
   "outputs": [],
   "source": [
    "import numpy as np \n",
    "import scipy.io as sio\n",
    "import os, os.path\n",
    "import sys\n",
    "import tensorflow as tf\n",
    "import re\n",
    "from dataset.dataset_utils import int64_feature, float_feature, bytes_feature ,ImageCoder, norm\n",
    "import glob\n",
    "import SimpleITK as sitk\n",
    "from random import shuffle\n",
    "from dataset.utils import writeImage, writeMedicalImage, fast_hist\n",
    "import scipy.ndimage\n",
    "\n",
    "from PIL import Image\n",
    "\n",
    "train_data = \"/home/jacob/Projects/image_segmentation/data\"\n",
    "\n",
    "val_data = \"/home/jacob/Projects/image_segmentation/data/\"\n",
    "\n",
    "path_save =  '/home/jacob/Projects/image_segmentation/data/'\n",
    "\n",
    "is_training = True\n"
   ]
  },
  {
   "cell_type": "code",
   "execution_count": null,
   "metadata": {},
   "outputs": [],
   "source": [
    "def _convert_to_example(image_data, label):\n",
    "\t#print 'shape: {}, height:{}, width:{}'.format(shape,shape[0],shape[1])\n",
    "\texample = tf.train.Example(features=tf.train.Features(feature={\n",
    "\t\t\t'image/encoded': bytes_feature(image_data),\n",
    "\t\t\t'label/encoded': bytes_feature(label)\n",
    "\t\t\t}))\n",
    "\treturn example\n",
    "\t\n",
    "    \n",
    "def _processing_image(seq, label, depth):\n",
    "\tseqs = []\n",
    "\tlabs = []\n",
    "\tfor d in [depth-2, depth-1, depth]:\n",
    "\t\tlabel_data = label[d]\n",
    "\t\tlabs.append(np.array(label_data))\n",
    "\t\tmod = []\n",
    "\t\tfor im in seq:\n",
    "\t\t\timage_data = im[d]\n",
    "\t\t\t#image_data = scipy.ndimage.interpolation.zoom(image_data, 2, order=1, mode='nearest')\n",
    "\t\t\t# upsample \n",
    "\t\t\tmod.append(image_data)\n",
    "\t\tseqs.append(np.array(mod))\n",
    "\tseqs = np.array(seqs)\n",
    "\tlabs = np.array(labs)\n",
    "\treturn seqs.tobytes(), labs.tobytes()\n",
    "\n",
    "def norm_image_by_patient(imname):\n",
    "\tim = sitk.GetArrayFromImage(sitk.ReadImage(imname)).astype(np.float32)\n",
    "\treturn (im - im.mean()) / im.std()\n",
    "\troi_index = im > 0\n",
    "\tmean = im[roi_index].mean()\n",
    "\tstd = im[roi_index].std()\n",
    "\tim[roi_index] -= mean\n",
    "\tim[roi_index] /= std\n",
    "\treturn im\n",
    "\n",
    "def count_class_freq(label_batch):\n",
    "    hist = np.zeros(5)\n",
    "    imagesPresent = [0,0,0,0,0]\n",
    "    for i in range(len(label_batch)):\n",
    "        new_hist = np.bincount(label_batch[i], minlength=5)\n",
    "        hist += new_hist\n",
    "        for ii in range(5):\n",
    "            if (new_hist[ii] != 0):\n",
    "                imagesPresent[ii] += 1\n",
    "    print(hist)\n",
    "    freqs = [hist[v]/float((imagesPresent[v]+1e-5)*240*240) for v in range(5)]\n",
    "    median = np.median(freqs)\n",
    "    o = []\n",
    "    for i in range(5):\n",
    "        if (freqs[i] <= 1e-5):\n",
    "            o.append(0.0)\n",
    "        else:\n",
    "            o.append(float(median)/(freqs[i]))\n",
    "    print(o)\n",
    "    return o\n",
    "\n",
    "def checkLabel(label, d):\n",
    "\tif np.count_nonzero(label[d]) > 0:\n",
    "\t\treturn True, 1\n",
    "\telse:\n",
    "\t\treturn False, 0\n",
    "    \n",
    "def count_freq(labels):\n",
    "\tfreq = np.array([0.0,0.0,0.0,0.0,0.0])\n",
    "\tfor la in labels:\n",
    "\t\tfreq += np.bincount(la, minlength=5).astype(np.float32)\n",
    "\tprint(freq)\n",
    "\tprint(freq/freq.sum())\n",
    "\tcount_class_freq(labels)\n",
    "    "
   ]
  },
  {
   "cell_type": "markdown",
   "metadata": {},
   "source": [
    "## TfRecord_train "
   ]
  },
  {
   "cell_type": "code",
   "execution_count": null,
   "metadata": {
    "scrolled": true
   },
   "outputs": [],
   "source": [
    "with tf.python_io.TFRecordWriter(path_save +\"train_cmc_original2.tfrecord\") as tfrecord_writer:\n",
    "    \n",
    "    folderHGG = glob.glob(train_data + '/HGG/*')\n",
    "    folderLGG = glob.glob(train_data + '/LGG/*')\n",
    "    folder_train = folderHGG[:-25] + folderLGG[:-5]\n",
    "    folder_val = folderHGG[-25:] + folderLGG[-5:]\n",
    "    tf_filename = path_save +'train_cmc_original2.tfrecord'\n",
    "\n",
    "    all_example = []\n",
    "    print(\"Saving training record....\")\n",
    "    all_label_data = []\n",
    "    for index, i in enumerate(folder_train):\n",
    "        print(\"dir_name =\",os.path.split(i)[-1],\"\\n\",\"idx =\",index)\n",
    "        imname = i.split(\"/\")[-1]\n",
    "        flair = glob.glob(i + '/*Flair*.mha')\n",
    "        t2 = glob.glob(i + '/*T2*.mha')\n",
    "        t1 = glob.glob(i + '/*T1*.mha')\n",
    "        t1c = glob.glob(i + '/*T1c*.mha')\n",
    "        t1 = [_t1 for _t1 in t1 if not _t1 in t1c]\n",
    "        label = glob.glob(i + '/*OT*.mha')[0]\n",
    "        label = sitk.GetArrayFromImage(sitk.ReadImage(label)).astype(np.float32)\n",
    "        seq = [norm_image_by_patient(flair[0]),\n",
    "               norm_image_by_patient(t2[0]),\n",
    "               norm_image_by_patient(t1[0]),\n",
    "               norm_image_by_patient(t1c[0])]\n",
    "        ind = 0\n",
    "        for depth in range(2,155):\n",
    "            is_valid, sample_num = checkLabel(label, depth)\n",
    "            if( not is_valid):\n",
    "                continue\n",
    "            for i in range(sample_num):\n",
    "                image_data, label_data = _processing_image(seq, label, depth)\n",
    "                #all_label_data.append(label[depth].flatten().astype(np.int64))\n",
    "                example = _convert_to_example(image_data, label_data)\n",
    "                all_example.append(example)\n",
    "    print(\"slices:\", len(all_example))\n",
    "    shuffle(all_example)\n",
    "    for ex in all_example:\n",
    "        tfrecord_writer.write(ex.SerializeToString()) \n",
    "# [0.011868184281122324, 1.0859737711507338, 0.80660914716121235, 0.0, 1.0]\n",
    "print('Transform to tfrecord finished')"
   ]
  },
  {
   "cell_type": "markdown",
   "metadata": {},
   "source": [
    "## TfRecord_Test"
   ]
  },
  {
   "cell_type": "code",
   "execution_count": null,
   "metadata": {
    "scrolled": true
   },
   "outputs": [],
   "source": [
    "with tf.python_io.TFRecordWriter(path_save +\"test_cmc_original2.tfrecord\") as tfrecord_writer:\n",
    "    \n",
    "    folderHGG = glob.glob(train_data + '/HGG/*')\n",
    "    folderLGG = glob.glob(train_data + '/LGG/*')\n",
    "    folder_train = folderHGG[:-25] + folderLGG[:-5]\n",
    "    folder_val = folderHGG[-25:] + folderLGG[-5:]\n",
    "    tf_filename = path_save +'test_cmc_original2.tfrecord'\n",
    "\n",
    "    all_example = []\n",
    "    print(\"Saving training record....\")\n",
    "    all_label_data = []\n",
    "    for index, i in enumerate(folder_val):\n",
    "        print(\"dir_name =\",os.path.split(i)[-1],\"\\n\",\"idx =\",index)\n",
    "        imname = i.split(\"/\")[-1]\n",
    "        flair = glob.glob(i + '/*Flair*.mha')\n",
    "        t2 = glob.glob(i + '/*T2*.mha')\n",
    "        t1 = glob.glob(i + '/*T1*.mha')\n",
    "        t1c = glob.glob(i + '/*T1c*.mha')\n",
    "        t1 = [_t1 for _t1 in t1 if not _t1 in t1c]\n",
    "        label = glob.glob(i + '/*OT*.mha')[0]\n",
    "        label = sitk.GetArrayFromImage(sitk.ReadImage(label)).astype(np.float32)\n",
    "        seq = [norm_image_by_patient(flair[0]),\n",
    "               norm_image_by_patient(t2[0]),\n",
    "               norm_image_by_patient(t1[0]),\n",
    "               norm_image_by_patient(t1c[0])]\n",
    "        ind = 0\n",
    "        for depth in range(2,155):\n",
    "            is_valid, sample_num = checkLabel(label, depth)\n",
    "            if( not is_valid):\n",
    "                continue\n",
    "            for i in range(sample_num):\n",
    "                image_data, label_data = _processing_image(seq, label, depth)\n",
    "                #all_label_data.append(label[depth].flatten().astype(np.int64))\n",
    "                example = _convert_to_example(image_data, label_data)\n",
    "                all_example.append(example)\n",
    "    print(\"slices:\", len(all_example))\n",
    "    shuffle(all_example)\n",
    "    for ex in all_example:\n",
    "        tfrecord_writer.write(ex.SerializeToString()) \n",
    "# [0.011868184281122324, 1.0859737711507338, 0.80660914716121235, 0.0, 1.0]\n",
    "print('Transform to tfrecord finished')"
   ]
  },
  {
   "cell_type": "markdown",
   "metadata": {},
   "source": [
    "## Test_BYTES_2_float(32)"
   ]
  },
  {
   "cell_type": "code",
   "execution_count": null,
   "metadata": {
    "scrolled": true
   },
   "outputs": [],
   "source": [
    "from matplotlib import pyplot\n",
    "temp = tf.reshape(tf.decode_raw(image_data,tf.float32),[-1,4,240,240])\n",
    "with tf.Session() as sess:\n",
    "    print(temp.get_shape())\n",
    "    temp2 = temp.eval()\n",
    "    temp2 = temp2[2,0,:,:]\n",
    "    pyplot.imshow(temp2)\n",
    "    "
   ]
  },
  {
   "cell_type": "markdown",
   "metadata": {},
   "source": [
    "## Test_TfRecord_2_float(32)"
   ]
  },
  {
   "cell_type": "code",
   "execution_count": 39,
   "metadata": {},
   "outputs": [],
   "source": [
    "num_readers = 2,\n",
    "batch_size = 3,\n",
    "net=None,\n",
    "FLAGS=None,\n",
    "file_pattern = '*.tfrecord'\n",
    "is_training = True,\n",
    "shuffe = False"
   ]
  },
  {
   "cell_type": "code",
   "execution_count": 55,
   "metadata": {
    "scrolled": true
   },
   "outputs": [
    {
     "name": "stdout",
     "output_type": "stream",
     "text": [
      "image (3, 240, 240, 4) (3, 240, 240, 1)\n"
     ]
    }
   ],
   "source": [
    "filename = \"/home/jacob/Projects/image_segmentation/data/to_record/train_cmc_original2.tfrecord\"\n",
    "\n",
    "filename_queue = tf.train.string_input_producer(\n",
    "    [filename], num_epochs=50)\n",
    "reader = tf.TFRecordReader()\n",
    "_, serialized_example = reader.read(filename_queue)\n",
    "features = tf.parse_single_example(serialized_example,\n",
    "            features={\n",
    "                'image/encoded': tf.FixedLenFeature([], tf.string),\n",
    "                'label/encoded': tf.FixedLenFeature([], tf.string),\n",
    "            })  # return image and label\n",
    "with tf.name_scope('cmc/label'):\n",
    "    label = tf.decode_raw(features['label/encoded'], tf.float32)\n",
    "    label = tf.transpose(tf.reshape(label, [3,1,240,240]), (0,2,3,1))\n",
    "with tf.name_scope('cmc/image'):\n",
    "    image = tf.decode_raw(features['image/encoded'], tf.float32)\n",
    "    image = tf.transpose(tf.reshape(image, [3,4,240,240]), (0,2,3,1))\n",
    "image = tf.cast(image, tf.float32)\n",
    "label = tf.cast(label, tf.int32)\n",
    "print(\"image\", image.get_shape(), label.get_shape())\n",
    "\n",
    "do_a_crop_flip = tf.random_uniform([], seed=None)\n",
    "do_a_crop_flip = tf.greater(do_a_crop_flip, 0.5)\n",
    "image = tf.cond(do_a_crop_flip, lambda: tf.reverse_v2(image, [2]),\n",
    "                                   lambda: image)\n",
    "label = tf.cond(do_a_crop_flip, lambda: tf.reverse_v2(label, [2]),\n",
    "                                   lambda: label)\n",
    "\n",
    "sh_images, sh_labels = tf.train.shuffle_batch(\n",
    "        [image, label], batch_size=batch_size, num_threads=1,\n",
    "        capacity = 1 * 100,\n",
    "        min_after_dequeue=3)"
   ]
  },
  {
   "cell_type": "code",
   "execution_count": 56,
   "metadata": {},
   "outputs": [
    {
     "name": "stdout",
     "output_type": "stream",
     "text": [
      "(3, 3, 240, 240, 4)\n"
     ]
    },
    {
     "data": {
      "image/png": "[encoded data removed]",
      "text/plain": [
       "<Figure size 432x288 with 4 Axes>"
      ]
     },
     "metadata": {},
     "output_type": "display_data"
    }
   ],
   "source": [
    "from matplotlib import pyplot\n",
    "\n",
    "with tf.Session() as sess:\n",
    "    init_op = tf.group(tf.global_variables_initializer(), tf.local_variables_initializer())\n",
    "    sess.run(init_op)\n",
    "    coord = tf.train.Coordinator()\n",
    "    threads = tf.train.start_queue_runners(coord=coord)\n",
    "    sh_images = sess.run(sh_images)\n",
    "    img = sh_images.astype(np.uint8)\n",
    "    print(img.shape)\n",
    "    for i in range(4):\n",
    "        pyplot.subplot(2,2,i+1)\n",
    "        pyplot.imshow(img[1,0,:,:,i])\n",
    "    coord.request_stop()\n",
    "    # Wait for threads to stop\n",
    "    coord.join(threads)"
   ]
  },
  {
   "cell_type": "code",
   "execution_count": null,
   "metadata": {},
   "outputs": [],
   "source": []
  }
 ],
 "metadata": {
  "kernelspec": {
   "display_name": "Python 3",
   "language": "python",
   "name": "py3"
  },
  "language_info": {
   "codemirror_mode": {
    "name": "ipython",
    "version": 3
   },
   "file_extension": ".py",
   "mimetype": "text/x-python",
   "name": "python",
   "nbconvert_exporter": "python",
   "pygments_lexer": "ipython3",
   "version": "3.6.5"
  }
 },
 "nbformat": 4,
 "nbformat_minor": 2
}
